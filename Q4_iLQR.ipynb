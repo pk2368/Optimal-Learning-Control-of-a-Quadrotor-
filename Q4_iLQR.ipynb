{
 "cells": [
  {
   "cell_type": "code",
   "execution_count": null,
   "id": "b952b320",
   "metadata": {},
   "outputs": [],
   "source": [
    "import numpy as np\n",
    "import matplotlib.pyplot as plt\n",
    "\n",
    "import quadrotor\n",
    "import math\n",
    "import sympy"
   ]
  },
  {
   "cell_type": "code",
   "execution_count": null,
   "id": "e62af99b",
   "metadata": {},
   "outputs": [],
   "source": [
    "m = 0.6  \n",
    "r = 0.2\n",
    "I = 0.15\n",
    "g = 9.81\n",
    "dt = 0.01"
   ]
  },
  {
   "cell_type": "code",
   "execution_count": null,
   "id": "dc9c8f9b",
   "metadata": {},
   "outputs": [],
   "source": [
    "def dummy_controller(state, i):\n",
    "    u = np.array([[m*g/2],[m*g/2]])\n",
    "    u = u.reshape(2,)\n",
    "    return u"
   ]
  },
  {
   "cell_type": "code",
   "execution_count": null,
   "id": "9a5f0163",
   "metadata": {},
   "outputs": [],
   "source": [
    "horizon_length = 1000\n",
    "z0 = np.zeros([quadrotor.NUMBER_STATES,])\n",
    "t, x, ustar = quadrotor.simulate(z0, dummy_controller, horizon_length, disturbance = False)"
   ]
  },
  {
   "cell_type": "code",
   "execution_count": null,
   "id": "4488fc5d",
   "metadata": {},
   "outputs": [],
   "source": [
    "ustar.shape"
   ]
  },
  {
   "cell_type": "code",
   "execution_count": null,
   "id": "0be4ff53",
   "metadata": {},
   "outputs": [],
   "source": [
    "def get_linearization(z, u):\n",
    "    m = 0.6  \n",
    "    r = 0.2\n",
    "    I = 0.15\n",
    "    g = 9.81\n",
    "    dt = 0.01\n",
    "    T = z[4]\n",
    "    u1 = u[0]\n",
    "    u2 = u[0]\n",
    "    A = np.array([[1,dt,0,0,0,0],[0,1,0,0,-(dt*(u1+u2)*math.cos(T))/m,0],[0,0,1,dt,0,0],[0,0,0,1,-(dt*(u1+u2)*math.sin(T))/m,0],[0,0,0,0,1,dt],[0,0,0,0,0,1]])\n",
    "    B = np.array([[0,0],[-(dt*math.sin(T))/m,-(dt*math.sin(T))/m],[0,0],[(dt*math.cos(T))/m,(dt*math.cos(T))/m],[0,0],[(dt*r)/I,-(dt*r)/I]])\n",
    "    return A,B"
   ]
  },
  {
   "cell_type": "code",
   "execution_count": null,
   "id": "b95b3761",
   "metadata": {},
   "outputs": [],
   "source": [
    "xstar=[[]]\n",
    "for i in range (0,1000):\n",
    "    if i >=0 and i <= 450:\n",
    "        xstar[i]=np.array([[3],[0],[3],[0],[0],[0]])\n",
    "        xstar.append(xstar[i])\n",
    "    if i>=451 and i <= 550:\n",
    "        xstar[i]=np.array([[3],[0],[3],[0],[np.pi/2],[0]])\n",
    "        xstar.append(xstar[i])\n",
    "    if i>=551 and i <= 1001:\n",
    "        xstar[i]=np.array([[0],[0],[0],[0],[0],[0]])\n",
    "        xstar.append(xstar[i])\n",
    "# print(np.array(xstar).shape)\n",
    "xstar = np.array(xstar).reshape(1001,6,).T\n",
    "# xstar[:,1001]\n",
    "xstar.shape"
   ]
  },
  {
   "cell_type": "code",
   "execution_count": null,
   "id": "02c259ea",
   "metadata": {},
   "outputs": [],
   "source": [
    "def get_quadratic_approximation_cost(state, u):\n",
    "        Q_O= np.identity(6)*10000\n",
    "        R_O= np.identity(2)*0.0001\n",
    "        q1 = []\n",
    "        Q1 = []\n",
    "        R1 = []\n",
    "        r1 = []\n",
    "        for i in range (1000):\n",
    "#             print(Q_O.shape)\n",
    "            q = 2 * Q_O @ (x[:,i] - xstar[:,i]) \n",
    "            q1.append(q)\n",
    "            Q = 2 * Q_O\n",
    "            Q1.append(Q)\n",
    "            r = 2 * R_O @ (u[:,i] - ustar[:,i])\n",
    "            r1.append(r)\n",
    "            R = 2 * R_O\n",
    "            R1.append(R)\n",
    "        return q1,Q1,r1,R1"
   ]
  },
  {
   "cell_type": "code",
   "execution_count": null,
   "id": "d0772852",
   "metadata": {},
   "outputs": [],
   "source": [
    "def cost_function(x,u):\n",
    "    \n",
    "\n",
    "    cost1 = []\n",
    "    for i in range(0,451):\n",
    "        q,Q,r,R = get_quadratic_approximation_cost(x, ustar)\n",
    "        cost = [np.matrix.transpose(x[:,i] - xstar[:,i]) @ Q[i] @ ( x[:,i] - xstar[:,i])] + [np.matrix.transpose(u[:,i] - ustar[:,i]) @ R[i] @ ( u[:,i] - ustar[:,i])] \n",
    "        cost1.append(cost)\n",
    "    for i in range(451,551):\n",
    "        q,Q,r,R = get_quadratic_approximation_cost(x, ustar)\n",
    "        cost = [np.matrix.transpose(x[:,i] - xstar[:,i]) @ Q[i] @ ( x[:,i] - xstar[:,i])] + [np.matrix.transpose(u[:,i] - ustar[:,i]) @ R[i] @ ( u[:,i] - ustar[:,i])] \n",
    "        cost1.append(cost)\n",
    "    for i in range(551,1000):\n",
    "        q,Q,r,R = get_quadratic_approximation_cost(x, ustar)\n",
    "        cost1 = [np.matrix.transpose(x[:,i] - xstar[:,i]) @ Q[i] @ ( x[:,i] - xstar[:,i])] + [np.matrix.transpose(u[:,i] - ustar[:,i]) @ R[i] @ ( u[:,i] - ustar[:,i])] \n",
    "        cost1.append(cost)\n",
    "    return cost1\n",
    "    "
   ]
  },
  {
   "cell_type": "code",
   "execution_count": null,
   "id": "aa5ea013",
   "metadata": {},
   "outputs": [],
   "source": [
    "q,Q,r,R = get_quadratic_approximation_cost(xstar, ustar)"
   ]
  },
  {
   "cell_type": "code",
   "execution_count": null,
   "id": "260f7313",
   "metadata": {},
   "outputs": [],
   "source": [
    "def back_Riccati(prev,curr,u):\n",
    "    N = 1000\n",
    "    P = [0 for x in range(N+1) ]\n",
    "    K = [0 for x in range(N)]\n",
    "    p = [0 for x in range(N+1) ]\n",
    "    k = [0 for x in range(N)]\n",
    "    P[-1]=Q[-1]\n",
    "    p[-1]=q[-1]\n",
    "    Mat = [i for i in range(N)]\n",
    "    Mat.reverse()\n",
    "    for n in Mat:\n",
    "        A,B = get_linearization(curr[:,n], u[:,n])\n",
    "        Bt = np.matrix.transpose(B)\n",
    "        At = np.matrix.transpose(A)\n",
    "        K[n] = -(np.linalg.inv(Bt @ P[n+1] @ B + R[n]) @ (Bt) @ P[n+1] @ A)\n",
    "        P[n] = Q[n] + At @ P[n+1] @ A + At @ P[n+1] @ B @ K[n]\n",
    "        k[n] = -np.linalg.inv(Bt@P[n+1]@B + R[n])@(Bt)@p[n+1]\n",
    "        p[n] = q[n] + At @ p[n+1] + At @ P[n+1] @ B @ k[n]\n",
    "    return K,k\n",
    "   "
   ]
  },
  {
   "cell_type": "code",
   "execution_count": null,
   "id": "a8e2851c",
   "metadata": {},
   "outputs": [],
   "source": [
    "K, k = back_Riccati(xstar,xstar,ustar)"
   ]
  },
  {
   "cell_type": "code",
   "execution_count": null,
   "id": "87a13e63",
   "metadata": {},
   "outputs": [],
   "source": [
    "alpha = 1\n",
    "while(True):\n",
    "    zero = (6,1001)\n",
    "    state = np.zeros(zero)\n",
    "    zero1 = (2,1000)\n",
    "    u = np.zeros(zero1)\n",
    "    u1 = []\n",
    "    s1 = []\n",
    "    hello = []\n",
    "    for i in range(1000):\n",
    "        u[:,i] = ustar[:,i] + K[i]@(state[:,i] - xstar[:,i]) + (alpha * k[i])\n",
    "        u1.append(u)\n",
    "        state[:,i+1] = quadrotor.get_next_state(state[:,i],u[:,i]) \n",
    "        s1.append(state)\n",
    "        hello.append(cost_function(state,u))\n",
    "    print('hello')\n",
    "    alpha = alpha / 2\n",
    "    if alpha < 0.01:\n",
    "        break"
   ]
  },
  {
   "cell_type": "code",
   "execution_count": null,
   "id": "070e60e3",
   "metadata": {},
   "outputs": [],
   "source": [
    "tmp = min(hello)\n",
    "index = hello.index(tmp)\n",
    "print(index)\n",
    "snew = s1[index]\n",
    "unew = u1[index]"
   ]
  },
  {
   "cell_type": "code",
   "execution_count": null,
   "id": "fdb5c71c",
   "metadata": {},
   "outputs": [],
   "source": [
    "q,Q,r,R = get_quadratic_approximation_cost(snew, unew)"
   ]
  },
  {
   "cell_type": "code",
   "execution_count": null,
   "id": "e2d74219",
   "metadata": {},
   "outputs": [],
   "source": [
    "Knew, knew = back_Riccati(xnew,xnew,unew)"
   ]
  },
  {
   "cell_type": "code",
   "execution_count": null,
   "id": "bb226b5f",
   "metadata": {},
   "outputs": [],
   "source": [
    "alpha = 1\n",
    "while(True):\n",
    "    zero = (6,1001)\n",
    "    state = np.zeros(zero)\n",
    "    zero1 = (2,1000)\n",
    "    u = np.zeros(zero1)\n",
    "    u2 = []\n",
    "    s2 = []\n",
    "    hello1 = []\n",
    "    for i in range(1000):\n",
    "        u[:,i] = unew[:,i] + Knew[i]@(state[:,i] - xnew[:,i]) + (alpha * knew[i])\n",
    "        u2.append(u)\n",
    "        state[:,i+1] = quadrotor.get_next_state(state[:,i],u[:,i]) \n",
    "        s2.append(state)\n",
    "        hello1.append(cost_function(state,u))\n",
    "    print('hello')\n",
    "    alpha = alpha / 2\n",
    "    if alpha < 0.01:\n",
    "        break"
   ]
  },
  {
   "cell_type": "code",
   "execution_count": null,
   "id": "3aeb93d4",
   "metadata": {},
   "outputs": [],
   "source": [
    "tmp2 = min(hello)\n",
    "index2 = hello.index(tmp)\n",
    "print(index)\n",
    "snew1 = s2[index]\n",
    "unew1 = u1[index]"
   ]
  }
 ],
 "metadata": {
  "kernelspec": {
   "display_name": "Python 3",
   "language": "python",
   "name": "python3"
  },
  "language_info": {
   "codemirror_mode": {
    "name": "ipython",
    "version": 3
   },
   "file_extension": ".py",
   "mimetype": "text/x-python",
   "name": "python",
   "nbconvert_exporter": "python",
   "pygments_lexer": "ipython3",
   "version": "3.8.5"
  }
 },
 "nbformat": 4,
 "nbformat_minor": 5
}
